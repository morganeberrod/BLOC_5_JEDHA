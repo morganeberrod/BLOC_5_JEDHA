{
 "cells": [
  {
   "attachments": {},
   "cell_type": "markdown",
   "metadata": {},
   "source": [
    "# GetAround Data Analysis 🚗"
   ]
  },
  {
   "attachments": {},
   "cell_type": "markdown",
   "metadata": {},
   "source": [
    "## Delay Analysis"
   ]
  },
  {
   "attachments": {},
   "cell_type": "markdown",
   "metadata": {},
   "source": [
    "#### Problematics : How long should the minimum delay be? Should we enable the feature for all cars? Only Connect cars?"
   ]
  },
  {
   "attachments": {},
   "cell_type": "markdown",
   "metadata": {},
   "source": [
    "### Librairies and imports"
   ]
  },
  {
   "cell_type": "code",
   "execution_count": 280,
   "metadata": {},
   "outputs": [],
   "source": [
    "import pandas as pd\n",
    "import numpy as np\n",
    "from matplotlib import pyplot as plt\n",
    "\n",
    "import warnings\n",
    "warnings.filterwarnings(\"ignore\")"
   ]
  },
  {
   "cell_type": "code",
   "execution_count": 281,
   "metadata": {},
   "outputs": [],
   "source": [
    "!pip install openpyxl -q\n",
    "import openpyxl"
   ]
  },
  {
   "attachments": {},
   "cell_type": "markdown",
   "metadata": {},
   "source": [
    "## Data importation and cleaning"
   ]
  },
  {
   "cell_type": "code",
   "execution_count": 282,
   "metadata": {},
   "outputs": [
    {
     "data": {
      "text/html": [
       "<div>\n",
       "<style scoped>\n",
       "    .dataframe tbody tr th:only-of-type {\n",
       "        vertical-align: middle;\n",
       "    }\n",
       "\n",
       "    .dataframe tbody tr th {\n",
       "        vertical-align: top;\n",
       "    }\n",
       "\n",
       "    .dataframe thead th {\n",
       "        text-align: right;\n",
       "    }\n",
       "</style>\n",
       "<table border=\"1\" class=\"dataframe\">\n",
       "  <thead>\n",
       "    <tr style=\"text-align: right;\">\n",
       "      <th></th>\n",
       "      <th>rental_id</th>\n",
       "      <th>car_id</th>\n",
       "      <th>checkin_type</th>\n",
       "      <th>state</th>\n",
       "      <th>delay_at_checkout_in_minutes</th>\n",
       "      <th>previous_ended_rental_id</th>\n",
       "      <th>time_delta_with_previous_rental_in_minutes</th>\n",
       "    </tr>\n",
       "  </thead>\n",
       "  <tbody>\n",
       "    <tr>\n",
       "      <th>0</th>\n",
       "      <td>505000</td>\n",
       "      <td>363965</td>\n",
       "      <td>mobile</td>\n",
       "      <td>canceled</td>\n",
       "      <td>NaN</td>\n",
       "      <td>NaN</td>\n",
       "      <td>NaN</td>\n",
       "    </tr>\n",
       "    <tr>\n",
       "      <th>1</th>\n",
       "      <td>507750</td>\n",
       "      <td>269550</td>\n",
       "      <td>mobile</td>\n",
       "      <td>ended</td>\n",
       "      <td>-81.0</td>\n",
       "      <td>NaN</td>\n",
       "      <td>NaN</td>\n",
       "    </tr>\n",
       "    <tr>\n",
       "      <th>2</th>\n",
       "      <td>508131</td>\n",
       "      <td>359049</td>\n",
       "      <td>connect</td>\n",
       "      <td>ended</td>\n",
       "      <td>70.0</td>\n",
       "      <td>NaN</td>\n",
       "      <td>NaN</td>\n",
       "    </tr>\n",
       "    <tr>\n",
       "      <th>3</th>\n",
       "      <td>508865</td>\n",
       "      <td>299063</td>\n",
       "      <td>connect</td>\n",
       "      <td>canceled</td>\n",
       "      <td>NaN</td>\n",
       "      <td>NaN</td>\n",
       "      <td>NaN</td>\n",
       "    </tr>\n",
       "    <tr>\n",
       "      <th>4</th>\n",
       "      <td>511440</td>\n",
       "      <td>313932</td>\n",
       "      <td>mobile</td>\n",
       "      <td>ended</td>\n",
       "      <td>NaN</td>\n",
       "      <td>NaN</td>\n",
       "      <td>NaN</td>\n",
       "    </tr>\n",
       "  </tbody>\n",
       "</table>\n",
       "</div>"
      ],
      "text/plain": [
       "   rental_id  car_id checkin_type     state  delay_at_checkout_in_minutes  \\\n",
       "0     505000  363965       mobile  canceled                           NaN   \n",
       "1     507750  269550       mobile     ended                         -81.0   \n",
       "2     508131  359049      connect     ended                          70.0   \n",
       "3     508865  299063      connect  canceled                           NaN   \n",
       "4     511440  313932       mobile     ended                           NaN   \n",
       "\n",
       "   previous_ended_rental_id  time_delta_with_previous_rental_in_minutes  \n",
       "0                       NaN                                         NaN  \n",
       "1                       NaN                                         NaN  \n",
       "2                       NaN                                         NaN  \n",
       "3                       NaN                                         NaN  \n",
       "4                       NaN                                         NaN  "
      ]
     },
     "execution_count": 282,
     "metadata": {},
     "output_type": "execute_result"
    }
   ],
   "source": [
    "df = pd.read_excel(\"src\\get_around_delay_analysis.xlsx\")\n",
    "df.head()"
   ]
  },
  {
   "cell_type": "code",
   "execution_count": 283,
   "metadata": {},
   "outputs": [
    {
     "name": "stdout",
     "output_type": "stream",
     "text": [
      "The dataset is made of 21310 observations and 7 features\n"
     ]
    }
   ],
   "source": [
    "# Shape of the dataset\n",
    "print(\"The dataset is made of\", df.shape[0], \"observations and\", df.shape[1], \"features\")"
   ]
  },
  {
   "cell_type": "code",
   "execution_count": 284,
   "metadata": {},
   "outputs": [
    {
     "data": {
      "text/html": [
       "<div>\n",
       "<style scoped>\n",
       "    .dataframe tbody tr th:only-of-type {\n",
       "        vertical-align: middle;\n",
       "    }\n",
       "\n",
       "    .dataframe tbody tr th {\n",
       "        vertical-align: top;\n",
       "    }\n",
       "\n",
       "    .dataframe thead th {\n",
       "        text-align: right;\n",
       "    }\n",
       "</style>\n",
       "<table border=\"1\" class=\"dataframe\">\n",
       "  <thead>\n",
       "    <tr style=\"text-align: right;\">\n",
       "      <th></th>\n",
       "      <th>rental_id</th>\n",
       "      <th>car_id</th>\n",
       "      <th>checkin_type</th>\n",
       "      <th>state</th>\n",
       "      <th>delay_at_checkout_in_minutes</th>\n",
       "      <th>previous_ended_rental_id</th>\n",
       "      <th>time_delta_with_previous_rental_in_minutes</th>\n",
       "    </tr>\n",
       "  </thead>\n",
       "  <tbody>\n",
       "    <tr>\n",
       "      <th>count</th>\n",
       "      <td>21310.000000</td>\n",
       "      <td>21310.000000</td>\n",
       "      <td>21310</td>\n",
       "      <td>21310</td>\n",
       "      <td>16346.000000</td>\n",
       "      <td>1841.000000</td>\n",
       "      <td>1841.000000</td>\n",
       "    </tr>\n",
       "    <tr>\n",
       "      <th>unique</th>\n",
       "      <td>NaN</td>\n",
       "      <td>NaN</td>\n",
       "      <td>2</td>\n",
       "      <td>2</td>\n",
       "      <td>NaN</td>\n",
       "      <td>NaN</td>\n",
       "      <td>NaN</td>\n",
       "    </tr>\n",
       "    <tr>\n",
       "      <th>top</th>\n",
       "      <td>NaN</td>\n",
       "      <td>NaN</td>\n",
       "      <td>mobile</td>\n",
       "      <td>ended</td>\n",
       "      <td>NaN</td>\n",
       "      <td>NaN</td>\n",
       "      <td>NaN</td>\n",
       "    </tr>\n",
       "    <tr>\n",
       "      <th>freq</th>\n",
       "      <td>NaN</td>\n",
       "      <td>NaN</td>\n",
       "      <td>17003</td>\n",
       "      <td>18045</td>\n",
       "      <td>NaN</td>\n",
       "      <td>NaN</td>\n",
       "      <td>NaN</td>\n",
       "    </tr>\n",
       "    <tr>\n",
       "      <th>mean</th>\n",
       "      <td>549712.880338</td>\n",
       "      <td>350030.603426</td>\n",
       "      <td>NaN</td>\n",
       "      <td>NaN</td>\n",
       "      <td>59.701517</td>\n",
       "      <td>550127.411733</td>\n",
       "      <td>279.288430</td>\n",
       "    </tr>\n",
       "    <tr>\n",
       "      <th>std</th>\n",
       "      <td>13863.446964</td>\n",
       "      <td>58206.249765</td>\n",
       "      <td>NaN</td>\n",
       "      <td>NaN</td>\n",
       "      <td>1002.561635</td>\n",
       "      <td>13184.023111</td>\n",
       "      <td>254.594486</td>\n",
       "    </tr>\n",
       "    <tr>\n",
       "      <th>min</th>\n",
       "      <td>504806.000000</td>\n",
       "      <td>159250.000000</td>\n",
       "      <td>NaN</td>\n",
       "      <td>NaN</td>\n",
       "      <td>-22433.000000</td>\n",
       "      <td>505628.000000</td>\n",
       "      <td>0.000000</td>\n",
       "    </tr>\n",
       "    <tr>\n",
       "      <th>25%</th>\n",
       "      <td>540613.250000</td>\n",
       "      <td>317639.000000</td>\n",
       "      <td>NaN</td>\n",
       "      <td>NaN</td>\n",
       "      <td>-36.000000</td>\n",
       "      <td>540896.000000</td>\n",
       "      <td>60.000000</td>\n",
       "    </tr>\n",
       "    <tr>\n",
       "      <th>50%</th>\n",
       "      <td>550350.000000</td>\n",
       "      <td>368717.000000</td>\n",
       "      <td>NaN</td>\n",
       "      <td>NaN</td>\n",
       "      <td>9.000000</td>\n",
       "      <td>550567.000000</td>\n",
       "      <td>180.000000</td>\n",
       "    </tr>\n",
       "    <tr>\n",
       "      <th>75%</th>\n",
       "      <td>560468.500000</td>\n",
       "      <td>394928.000000</td>\n",
       "      <td>NaN</td>\n",
       "      <td>NaN</td>\n",
       "      <td>67.000000</td>\n",
       "      <td>560823.000000</td>\n",
       "      <td>540.000000</td>\n",
       "    </tr>\n",
       "    <tr>\n",
       "      <th>max</th>\n",
       "      <td>576401.000000</td>\n",
       "      <td>417675.000000</td>\n",
       "      <td>NaN</td>\n",
       "      <td>NaN</td>\n",
       "      <td>71084.000000</td>\n",
       "      <td>575053.000000</td>\n",
       "      <td>720.000000</td>\n",
       "    </tr>\n",
       "  </tbody>\n",
       "</table>\n",
       "</div>"
      ],
      "text/plain": [
       "            rental_id         car_id checkin_type  state  \\\n",
       "count    21310.000000   21310.000000        21310  21310   \n",
       "unique            NaN            NaN            2      2   \n",
       "top               NaN            NaN       mobile  ended   \n",
       "freq              NaN            NaN        17003  18045   \n",
       "mean    549712.880338  350030.603426          NaN    NaN   \n",
       "std      13863.446964   58206.249765          NaN    NaN   \n",
       "min     504806.000000  159250.000000          NaN    NaN   \n",
       "25%     540613.250000  317639.000000          NaN    NaN   \n",
       "50%     550350.000000  368717.000000          NaN    NaN   \n",
       "75%     560468.500000  394928.000000          NaN    NaN   \n",
       "max     576401.000000  417675.000000          NaN    NaN   \n",
       "\n",
       "        delay_at_checkout_in_minutes  previous_ended_rental_id  \\\n",
       "count                   16346.000000               1841.000000   \n",
       "unique                           NaN                       NaN   \n",
       "top                              NaN                       NaN   \n",
       "freq                             NaN                       NaN   \n",
       "mean                       59.701517             550127.411733   \n",
       "std                      1002.561635              13184.023111   \n",
       "min                    -22433.000000             505628.000000   \n",
       "25%                       -36.000000             540896.000000   \n",
       "50%                         9.000000             550567.000000   \n",
       "75%                        67.000000             560823.000000   \n",
       "max                     71084.000000             575053.000000   \n",
       "\n",
       "        time_delta_with_previous_rental_in_minutes  \n",
       "count                                  1841.000000  \n",
       "unique                                         NaN  \n",
       "top                                            NaN  \n",
       "freq                                           NaN  \n",
       "mean                                    279.288430  \n",
       "std                                     254.594486  \n",
       "min                                       0.000000  \n",
       "25%                                      60.000000  \n",
       "50%                                     180.000000  \n",
       "75%                                     540.000000  \n",
       "max                                     720.000000  "
      ]
     },
     "execution_count": 284,
     "metadata": {},
     "output_type": "execute_result"
    }
   ],
   "source": [
    "# Check basic statistics\n",
    "df.describe(include=\"all\")"
   ]
  },
  {
   "cell_type": "code",
   "execution_count": 285,
   "metadata": {},
   "outputs": [
    {
     "data": {
      "text/plain": [
       "float64    3\n",
       "int64      2\n",
       "object     2\n",
       "dtype: int64"
      ]
     },
     "execution_count": 285,
     "metadata": {},
     "output_type": "execute_result"
    }
   ],
   "source": [
    "# Types of data\n",
    "df.dtypes.value_counts()"
   ]
  },
  {
   "cell_type": "code",
   "execution_count": 286,
   "metadata": {},
   "outputs": [
    {
     "data": {
      "text/plain": [
       "previous_ended_rental_id                      19469\n",
       "time_delta_with_previous_rental_in_minutes    19469\n",
       "delay_at_checkout_in_minutes                   4964\n",
       "rental_id                                         0\n",
       "car_id                                            0\n",
       "checkin_type                                      0\n",
       "state                                             0\n",
       "dtype: int64"
      ]
     },
     "execution_count": 286,
     "metadata": {},
     "output_type": "execute_result"
    }
   ],
   "source": [
    "# Counting null values\n",
    "df.isnull().sum().sort_values(ascending=False)"
   ]
  },
  {
   "cell_type": "code",
   "execution_count": 287,
   "metadata": {},
   "outputs": [
    {
     "data": {
      "text/html": [
       "<div>\n",
       "<style scoped>\n",
       "    .dataframe tbody tr th:only-of-type {\n",
       "        vertical-align: middle;\n",
       "    }\n",
       "\n",
       "    .dataframe tbody tr th {\n",
       "        vertical-align: top;\n",
       "    }\n",
       "\n",
       "    .dataframe thead th {\n",
       "        text-align: right;\n",
       "    }\n",
       "</style>\n",
       "<table border=\"1\" class=\"dataframe\">\n",
       "  <thead>\n",
       "    <tr style=\"text-align: right;\">\n",
       "      <th></th>\n",
       "      <th>rental_id</th>\n",
       "      <th>car_id</th>\n",
       "      <th>checkin_type</th>\n",
       "      <th>state</th>\n",
       "      <th>delay_at_checkout_in_minutes</th>\n",
       "      <th>previous_ended_rental_id</th>\n",
       "      <th>time_delta_with_previous_rental_in_minutes</th>\n",
       "      <th>is_delay</th>\n",
       "    </tr>\n",
       "  </thead>\n",
       "  <tbody>\n",
       "    <tr>\n",
       "      <th>0</th>\n",
       "      <td>505000</td>\n",
       "      <td>363965</td>\n",
       "      <td>mobile</td>\n",
       "      <td>canceled</td>\n",
       "      <td>NaN</td>\n",
       "      <td>NaN</td>\n",
       "      <td>NaN</td>\n",
       "      <td>0</td>\n",
       "    </tr>\n",
       "    <tr>\n",
       "      <th>1</th>\n",
       "      <td>507750</td>\n",
       "      <td>269550</td>\n",
       "      <td>mobile</td>\n",
       "      <td>ended</td>\n",
       "      <td>-81.0</td>\n",
       "      <td>NaN</td>\n",
       "      <td>NaN</td>\n",
       "      <td>0</td>\n",
       "    </tr>\n",
       "    <tr>\n",
       "      <th>2</th>\n",
       "      <td>508131</td>\n",
       "      <td>359049</td>\n",
       "      <td>connect</td>\n",
       "      <td>ended</td>\n",
       "      <td>70.0</td>\n",
       "      <td>NaN</td>\n",
       "      <td>NaN</td>\n",
       "      <td>1</td>\n",
       "    </tr>\n",
       "    <tr>\n",
       "      <th>3</th>\n",
       "      <td>508865</td>\n",
       "      <td>299063</td>\n",
       "      <td>connect</td>\n",
       "      <td>canceled</td>\n",
       "      <td>NaN</td>\n",
       "      <td>NaN</td>\n",
       "      <td>NaN</td>\n",
       "      <td>0</td>\n",
       "    </tr>\n",
       "    <tr>\n",
       "      <th>4</th>\n",
       "      <td>511440</td>\n",
       "      <td>313932</td>\n",
       "      <td>mobile</td>\n",
       "      <td>ended</td>\n",
       "      <td>NaN</td>\n",
       "      <td>NaN</td>\n",
       "      <td>NaN</td>\n",
       "      <td>0</td>\n",
       "    </tr>\n",
       "  </tbody>\n",
       "</table>\n",
       "</div>"
      ],
      "text/plain": [
       "   rental_id  car_id checkin_type     state  delay_at_checkout_in_minutes  \\\n",
       "0     505000  363965       mobile  canceled                           NaN   \n",
       "1     507750  269550       mobile     ended                         -81.0   \n",
       "2     508131  359049      connect     ended                          70.0   \n",
       "3     508865  299063      connect  canceled                           NaN   \n",
       "4     511440  313932       mobile     ended                           NaN   \n",
       "\n",
       "   previous_ended_rental_id  time_delta_with_previous_rental_in_minutes  \\\n",
       "0                       NaN                                         NaN   \n",
       "1                       NaN                                         NaN   \n",
       "2                       NaN                                         NaN   \n",
       "3                       NaN                                         NaN   \n",
       "4                       NaN                                         NaN   \n",
       "\n",
       "   is_delay  \n",
       "0         0  \n",
       "1         0  \n",
       "2         1  \n",
       "3         0  \n",
       "4         0  "
      ]
     },
     "execution_count": 287,
     "metadata": {},
     "output_type": "execute_result"
    }
   ],
   "source": [
    "# Adding a column is_delay\n",
    "df[\"is_delay\"] = np.where(df[\"delay_at_checkout_in_minutes\"]>=0, 1, 0)\n",
    "df.head()"
   ]
  },
  {
   "cell_type": "code",
   "execution_count": 288,
   "metadata": {},
   "outputs": [],
   "source": [
    "# Function to know the type of delay\n",
    "def type_delay(x):\n",
    "    if x < 0 :\n",
    "        y = \"Early arrival\"\n",
    "    elif x < 10 : \n",
    "        y = \"Delay < 10 mins\"\n",
    "    elif x < 60 :\n",
    "        y = \"10 mins ≤ Delay < 60 mins\"\n",
    "    elif x >= 60 :\n",
    "        y = \"Delay ≥ 60 mins\"\n",
    "    else:\n",
    "        y = \"Not applicable\"\n",
    "    return y"
   ]
  },
  {
   "cell_type": "code",
   "execution_count": 289,
   "metadata": {},
   "outputs": [
    {
     "data": {
      "text/html": [
       "<div>\n",
       "<style scoped>\n",
       "    .dataframe tbody tr th:only-of-type {\n",
       "        vertical-align: middle;\n",
       "    }\n",
       "\n",
       "    .dataframe tbody tr th {\n",
       "        vertical-align: top;\n",
       "    }\n",
       "\n",
       "    .dataframe thead th {\n",
       "        text-align: right;\n",
       "    }\n",
       "</style>\n",
       "<table border=\"1\" class=\"dataframe\">\n",
       "  <thead>\n",
       "    <tr style=\"text-align: right;\">\n",
       "      <th></th>\n",
       "      <th>rental_id</th>\n",
       "      <th>car_id</th>\n",
       "      <th>checkin_type</th>\n",
       "      <th>state</th>\n",
       "      <th>delay_at_checkout_in_minutes</th>\n",
       "      <th>previous_ended_rental_id</th>\n",
       "      <th>time_delta_with_previous_rental_in_minutes</th>\n",
       "      <th>is_delay</th>\n",
       "      <th>type_delay</th>\n",
       "    </tr>\n",
       "  </thead>\n",
       "  <tbody>\n",
       "    <tr>\n",
       "      <th>0</th>\n",
       "      <td>505000</td>\n",
       "      <td>363965</td>\n",
       "      <td>mobile</td>\n",
       "      <td>canceled</td>\n",
       "      <td>NaN</td>\n",
       "      <td>NaN</td>\n",
       "      <td>NaN</td>\n",
       "      <td>0</td>\n",
       "      <td>Not applicable</td>\n",
       "    </tr>\n",
       "    <tr>\n",
       "      <th>1</th>\n",
       "      <td>507750</td>\n",
       "      <td>269550</td>\n",
       "      <td>mobile</td>\n",
       "      <td>ended</td>\n",
       "      <td>-81.0</td>\n",
       "      <td>NaN</td>\n",
       "      <td>NaN</td>\n",
       "      <td>0</td>\n",
       "      <td>Early arrival</td>\n",
       "    </tr>\n",
       "    <tr>\n",
       "      <th>2</th>\n",
       "      <td>508131</td>\n",
       "      <td>359049</td>\n",
       "      <td>connect</td>\n",
       "      <td>ended</td>\n",
       "      <td>70.0</td>\n",
       "      <td>NaN</td>\n",
       "      <td>NaN</td>\n",
       "      <td>1</td>\n",
       "      <td>Delay ≥ 60 mins</td>\n",
       "    </tr>\n",
       "    <tr>\n",
       "      <th>3</th>\n",
       "      <td>508865</td>\n",
       "      <td>299063</td>\n",
       "      <td>connect</td>\n",
       "      <td>canceled</td>\n",
       "      <td>NaN</td>\n",
       "      <td>NaN</td>\n",
       "      <td>NaN</td>\n",
       "      <td>0</td>\n",
       "      <td>Not applicable</td>\n",
       "    </tr>\n",
       "    <tr>\n",
       "      <th>4</th>\n",
       "      <td>511440</td>\n",
       "      <td>313932</td>\n",
       "      <td>mobile</td>\n",
       "      <td>ended</td>\n",
       "      <td>NaN</td>\n",
       "      <td>NaN</td>\n",
       "      <td>NaN</td>\n",
       "      <td>0</td>\n",
       "      <td>Not applicable</td>\n",
       "    </tr>\n",
       "  </tbody>\n",
       "</table>\n",
       "</div>"
      ],
      "text/plain": [
       "   rental_id  car_id checkin_type     state  delay_at_checkout_in_minutes  \\\n",
       "0     505000  363965       mobile  canceled                           NaN   \n",
       "1     507750  269550       mobile     ended                         -81.0   \n",
       "2     508131  359049      connect     ended                          70.0   \n",
       "3     508865  299063      connect  canceled                           NaN   \n",
       "4     511440  313932       mobile     ended                           NaN   \n",
       "\n",
       "   previous_ended_rental_id  time_delta_with_previous_rental_in_minutes  \\\n",
       "0                       NaN                                         NaN   \n",
       "1                       NaN                                         NaN   \n",
       "2                       NaN                                         NaN   \n",
       "3                       NaN                                         NaN   \n",
       "4                       NaN                                         NaN   \n",
       "\n",
       "   is_delay       type_delay  \n",
       "0         0   Not applicable  \n",
       "1         0    Early arrival  \n",
       "2         1  Delay ≥ 60 mins  \n",
       "3         0   Not applicable  \n",
       "4         0   Not applicable  "
      ]
     },
     "execution_count": 289,
     "metadata": {},
     "output_type": "execute_result"
    }
   ],
   "source": [
    "# Add new column type delay \n",
    "df[\"type_delay\"] = df[\"delay_at_checkout_in_minutes\"].apply(lambda x: type_delay(x))\n",
    "df.head()"
   ]
  },
  {
   "attachments": {},
   "cell_type": "markdown",
   "metadata": {},
   "source": [
    "## EDA"
   ]
  },
  {
   "attachments": {},
   "cell_type": "markdown",
   "metadata": {},
   "source": [
    "### Features distributions "
   ]
  },
  {
   "cell_type": "code",
   "execution_count": 290,
   "metadata": {},
   "outputs": [
    {
     "data": {
      "image/png": "[encoded data removed]",
      "text/plain": [
       "<Figure size 640x480 with 1 Axes>"
      ]
     },
     "metadata": {},
     "output_type": "display_data"
    }
   ],
   "source": [
    "# Distribution of checking_type\n",
    "pie_data = df[\"checkin_type\"].value_counts()\n",
    "fig, ax = plt.subplots()\n",
    "ax.pie(pie_data, labels=[\"Mobile\",\"Connect\"], autopct=\"%.2f%%\")\n",
    "ax.set(title=\"Percentage of checkin_type\");"
   ]
  },
  {
   "cell_type": "code",
   "execution_count": 291,
   "metadata": {},
   "outputs": [
    {
     "data": {
      "image/png": "[encoded data removed]",
      "text/plain": [
       "<Figure size 640x480 with 1 Axes>"
      ]
     },
     "metadata": {},
     "output_type": "display_data"
    }
   ],
   "source": [
    "# Distribution of delay\n",
    "pie_data = df[\"is_delay\"].value_counts()\n",
    "fig, ax = plt.subplots()\n",
    "ax.pie(pie_data, labels=[\"Yes\",\"No\"], autopct=\"%.2f%%\")\n",
    "ax.set(title=\"Percentage of delay\");"
   ]
  },
  {
   "cell_type": "code",
   "execution_count": 292,
   "metadata": {},
   "outputs": [
    {
     "data": {
      "image/png": "[encoded data removed]",
      "text/plain": [
       "<Figure size 640x480 with 1 Axes>"
      ]
     },
     "metadata": {},
     "output_type": "display_data"
    }
   ],
   "source": [
    "# Distribution of state\n",
    "pie_data = df[\"state\"].value_counts()\n",
    "fig, ax = plt.subplots()\n",
    "ax.pie(pie_data, labels=[\"Ended\",\"Canceled\"], autopct=\"%.2f%%\")\n",
    "ax.set(title=\"Percentage of state\");"
   ]
  },
  {
   "attachments": {},
   "cell_type": "markdown",
   "metadata": {},
   "source": [
    "### Delay analysis"
   ]
  },
  {
   "cell_type": "code",
   "execution_count": 293,
   "metadata": {},
   "outputs": [
    {
     "data": {
      "image/png": "[encoded data removed]",
      "text/plain": [
       "<Figure size 1155.25x350 with 1 Axes>"
      ]
     },
     "metadata": {},
     "output_type": "display_data"
    }
   ],
   "source": [
    "sns.displot(df, x= \"type_delay\", stat=\"percent\", hue=\"checkin_type\",  height=3.5, aspect=3., alpha= 0.5)\n",
    "plt.show()"
   ]
  },
  {
   "cell_type": "code",
   "execution_count": 294,
   "metadata": {},
   "outputs": [
    {
     "name": "stdout",
     "output_type": "stream",
     "text": [
      "Global mean delay time : 60 mins\n"
     ]
    }
   ],
   "source": [
    "# Mean delay time\n",
    "print(\"Global mean delay time :\", round(df.loc[:,\"delay_at_checkout_in_minutes\"].mean()), \"mins\")"
   ]
  },
  {
   "cell_type": "code",
   "execution_count": 295,
   "metadata": {},
   "outputs": [
    {
     "name": "stdout",
     "output_type": "stream",
     "text": [
      "Mean delay time when late : 199 mins\n"
     ]
    }
   ],
   "source": [
    "# Mean delay time when late\n",
    "mask = (df[\"is_delay\"] == 1)\n",
    "print(\"Mean delay time when late :\", round(df.loc[mask,\"delay_at_checkout_in_minutes\"].mean()), \"mins\")"
   ]
  },
  {
   "cell_type": "code",
   "execution_count": 296,
   "metadata": {},
   "outputs": [
    {
     "name": "stdout",
     "output_type": "stream",
     "text": [
      "Mean delay time for connect checkin : -44 mins\n",
      "Mean delay time for mobile checkin : 87 mins\n"
     ]
    }
   ],
   "source": [
    "# Mean delay time by checkin type\n",
    "df_checkin = df.groupby(df[\"checkin_type\"])[\"delay_at_checkout_in_minutes\"].mean()\n",
    "print(\"Mean delay time for connect checkin :\", round(df_checkin[0]), \"mins\")\n",
    "print(\"Mean delay time for mobile checkin :\", round(df_checkin[1]), \"mins\")"
   ]
  },
  {
   "cell_type": "code",
   "execution_count": 297,
   "metadata": {},
   "outputs": [
    {
     "name": "stdout",
     "output_type": "stream",
     "text": [
      "Mean delay time for late mobile checkin : 221 mins\n",
      "Mean delay time for late connect checkin : 79 mins\n"
     ]
    }
   ],
   "source": [
    "mask1 = (df[\"is_delay\"] == 1) & (df[\"checkin_type\"] == \"mobile\")\n",
    "mask2 = (df[\"is_delay\"] == 1) & (df[\"checkin_type\"] == \"connect\")\n",
    "print(\"Mean delay time for late mobile checkin :\", round(df.loc[mask1,\"delay_at_checkout_in_minutes\"].mean()), \"mins\")\n",
    "print(\"Mean delay time for late connect checkin :\", round(df.loc[mask2,\"delay_at_checkout_in_minutes\"].mean()), \"mins\")"
   ]
  },
  {
   "attachments": {},
   "cell_type": "markdown",
   "metadata": {},
   "source": [
    "Considering these results, we would recommand the Product Manager to consider creating a threshold for the people that checkin by mobile."
   ]
  },
  {
   "cell_type": "code",
   "execution_count": 298,
   "metadata": {},
   "outputs": [
    {
     "data": {
      "text/plain": [
       "count    16346.000000\n",
       "mean        59.701517\n",
       "std       1002.561635\n",
       "min     -22433.000000\n",
       "25%        -36.000000\n",
       "50%          9.000000\n",
       "75%         67.000000\n",
       "max      71084.000000\n",
       "Name: delay_at_checkout_in_minutes, dtype: float64"
      ]
     },
     "execution_count": 298,
     "metadata": {},
     "output_type": "execute_result"
    }
   ],
   "source": [
    "# Look at the statistics to see if there are outliers to remove\n",
    "df[\"delay_at_checkout_in_minutes\"].describe()"
   ]
  },
  {
   "cell_type": "code",
   "execution_count": 299,
   "metadata": {},
   "outputs": [
    {
     "data": {
      "image/png": "[encoded data removed]",
      "text/plain": [
       "<Figure size 800x400 with 1 Axes>"
      ]
     },
     "metadata": {},
     "output_type": "display_data"
    }
   ],
   "source": [
    "mask1 = df[\"delay_at_checkout_in_minutes\"] <= 1000\n",
    "mask2 = df[\"delay_at_checkout_in_minutes\"] >= 0\n",
    "\n",
    "plt.figure(figsize=(8,4))\n",
    "sns.histplot(df.loc[mask1&mask2,:], x=\"delay_at_checkout_in_minutes\")\n",
    "plt.show()"
   ]
  },
  {
   "attachments": {},
   "cell_type": "markdown",
   "metadata": {},
   "source": [
    "We see that delays over 600mins are in minority, we remove these rows. "
   ]
  },
  {
   "cell_type": "code",
   "execution_count": 300,
   "metadata": {},
   "outputs": [
    {
     "name": "stdout",
     "output_type": "stream",
     "text": [
      "The new dataset is made of 15772 observations and 9 features\n"
     ]
    }
   ],
   "source": [
    "mask = df[\"delay_at_checkout_in_minutes\"] <= 600\n",
    "df = df.loc[mask, :]\n",
    "print(\"The new dataset is made of\", df.shape[0], \"observations and\", df.shape[1], \"features\")"
   ]
  },
  {
   "cell_type": "code",
   "execution_count": 301,
   "metadata": {},
   "outputs": [
    {
     "data": {
      "text/plain": [
       "ended       15771\n",
       "canceled        1\n",
       "Name: state, dtype: int64"
      ]
     },
     "execution_count": 301,
     "metadata": {},
     "output_type": "execute_result"
    }
   ],
   "source": [
    "df[\"state\"].value_counts()"
   ]
  },
  {
   "attachments": {},
   "cell_type": "markdown",
   "metadata": {},
   "source": [
    "### Impact of delay on consecutive rentals"
   ]
  },
  {
   "cell_type": "code",
   "execution_count": 302,
   "metadata": {},
   "outputs": [],
   "source": [
    "# Creating new dataset to analyse consecutive rentals\n",
    "df_multiple_rentals = pd.merge(df, df, how=\"inner\", left_on = \"previous_ended_rental_id\", right_on = \"rental_id\")"
   ]
  },
  {
   "cell_type": "code",
   "execution_count": 303,
   "metadata": {},
   "outputs": [],
   "source": [
    "# Removing columns we do not need\n",
    "df_multiple_rentals.drop(\n",
    "    [\n",
    "        \"delay_at_checkout_in_minutes_x\",\n",
    "        \"rental_id_y\", \n",
    "        \"car_id_y\", \n",
    "        \"state_y\",\n",
    "        \"time_delta_with_previous_rental_in_minutes_y\",\n",
    "        \"previous_ended_rental_id_y\",\n",
    "        \"is_delay_x\",\n",
    "        \"is_delay_y\",\n",
    "        \"type_delay_x\",\n",
    "        \"type_delay_y\"\n",
    "    ], \n",
    "    axis=1,\n",
    "    inplace=True\n",
    ")"
   ]
  },
  {
   "cell_type": "code",
   "execution_count": 304,
   "metadata": {},
   "outputs": [
    {
     "name": "stdout",
     "output_type": "stream",
     "text": [
      "The new dataset is made of 1429 observations and 8 features\n"
     ]
    },
    {
     "data": {
      "text/html": [
       "<div>\n",
       "<style scoped>\n",
       "    .dataframe tbody tr th:only-of-type {\n",
       "        vertical-align: middle;\n",
       "    }\n",
       "\n",
       "    .dataframe tbody tr th {\n",
       "        vertical-align: top;\n",
       "    }\n",
       "\n",
       "    .dataframe thead th {\n",
       "        text-align: right;\n",
       "    }\n",
       "</style>\n",
       "<table border=\"1\" class=\"dataframe\">\n",
       "  <thead>\n",
       "    <tr style=\"text-align: right;\">\n",
       "      <th></th>\n",
       "      <th>rental_id_x</th>\n",
       "      <th>car_id_x</th>\n",
       "      <th>checkin_type_x</th>\n",
       "      <th>state_x</th>\n",
       "      <th>previous_ended_rental_id_x</th>\n",
       "      <th>time_delta_with_previous_rental_in_minutes_x</th>\n",
       "      <th>checkin_type_y</th>\n",
       "      <th>delay_at_checkout_in_minutes_y</th>\n",
       "    </tr>\n",
       "  </thead>\n",
       "  <tbody>\n",
       "    <tr>\n",
       "      <th>0</th>\n",
       "      <td>511639</td>\n",
       "      <td>370585</td>\n",
       "      <td>connect</td>\n",
       "      <td>ended</td>\n",
       "      <td>563782.0</td>\n",
       "      <td>570.0</td>\n",
       "      <td>connect</td>\n",
       "      <td>136.0</td>\n",
       "    </tr>\n",
       "    <tr>\n",
       "      <th>1</th>\n",
       "      <td>519491</td>\n",
       "      <td>312389</td>\n",
       "      <td>mobile</td>\n",
       "      <td>ended</td>\n",
       "      <td>545639.0</td>\n",
       "      <td>420.0</td>\n",
       "      <td>mobile</td>\n",
       "      <td>140.0</td>\n",
       "    </tr>\n",
       "    <tr>\n",
       "      <th>2</th>\n",
       "      <td>528808</td>\n",
       "      <td>181625</td>\n",
       "      <td>connect</td>\n",
       "      <td>ended</td>\n",
       "      <td>557404.0</td>\n",
       "      <td>330.0</td>\n",
       "      <td>connect</td>\n",
       "      <td>-352.0</td>\n",
       "    </tr>\n",
       "    <tr>\n",
       "      <th>3</th>\n",
       "      <td>533670</td>\n",
       "      <td>320824</td>\n",
       "      <td>connect</td>\n",
       "      <td>ended</td>\n",
       "      <td>556563.0</td>\n",
       "      <td>630.0</td>\n",
       "      <td>connect</td>\n",
       "      <td>23.0</td>\n",
       "    </tr>\n",
       "    <tr>\n",
       "      <th>4</th>\n",
       "      <td>534827</td>\n",
       "      <td>404169</td>\n",
       "      <td>mobile</td>\n",
       "      <td>ended</td>\n",
       "      <td>531158.0</td>\n",
       "      <td>90.0</td>\n",
       "      <td>mobile</td>\n",
       "      <td>29.0</td>\n",
       "    </tr>\n",
       "  </tbody>\n",
       "</table>\n",
       "</div>"
      ],
      "text/plain": [
       "   rental_id_x  car_id_x checkin_type_x state_x  previous_ended_rental_id_x  \\\n",
       "0       511639    370585        connect   ended                    563782.0   \n",
       "1       519491    312389         mobile   ended                    545639.0   \n",
       "2       528808    181625        connect   ended                    557404.0   \n",
       "3       533670    320824        connect   ended                    556563.0   \n",
       "4       534827    404169         mobile   ended                    531158.0   \n",
       "\n",
       "   time_delta_with_previous_rental_in_minutes_x checkin_type_y  \\\n",
       "0                                         570.0        connect   \n",
       "1                                         420.0         mobile   \n",
       "2                                         330.0        connect   \n",
       "3                                         630.0        connect   \n",
       "4                                          90.0         mobile   \n",
       "\n",
       "   delay_at_checkout_in_minutes_y  \n",
       "0                           136.0  \n",
       "1                           140.0  \n",
       "2                          -352.0  \n",
       "3                            23.0  \n",
       "4                            29.0  "
      ]
     },
     "execution_count": 304,
     "metadata": {},
     "output_type": "execute_result"
    }
   ],
   "source": [
    "print(\"The new dataset is made of\", df_multiple_rentals.shape[0], \"observations and\", df_multiple_rentals.shape[1], \"features\")\n",
    "df_multiple_rentals.head()"
   ]
  },
  {
   "cell_type": "code",
   "execution_count": 305,
   "metadata": {},
   "outputs": [],
   "source": [
    "# Keep rows where we have no missing values to analyse the delay between rentals \n",
    "mask = (df_multiple_rentals[\"delay_at_checkout_in_minutes_y\"].notnull())\n",
    "df_multiple_rentals = df_multiple_rentals.loc[mask, :]\n",
    "df_multiple_rentals.reset_index(drop=True, inplace=True)"
   ]
  },
  {
   "cell_type": "code",
   "execution_count": 314,
   "metadata": {},
   "outputs": [
    {
     "name": "stdout",
     "output_type": "stream",
     "text": [
      "Total number of rentals : 15772\n",
      "Total number of consecutive rentals : 1429\n",
      "Percentage of consecutive rentals : 9.06 %\n"
     ]
    }
   ],
   "source": [
    "# Overview of rentals and consecutive rentals\n",
    "print(\"Total number of rentals :\", df.shape[0])\n",
    "print(\"Total number of consecutive rentals :\", df_multiple_rentals.shape[0])\n",
    "print(\"Percentage of consecutive rentals :\", round(df_multiple_rentals.shape[0]*100/df.shape[0],2), \"%\")"
   ]
  },
  {
   "cell_type": "code",
   "execution_count": 307,
   "metadata": {},
   "outputs": [
    {
     "data": {
      "text/html": [
       "<div>\n",
       "<style scoped>\n",
       "    .dataframe tbody tr th:only-of-type {\n",
       "        vertical-align: middle;\n",
       "    }\n",
       "\n",
       "    .dataframe tbody tr th {\n",
       "        vertical-align: top;\n",
       "    }\n",
       "\n",
       "    .dataframe thead th {\n",
       "        text-align: right;\n",
       "    }\n",
       "</style>\n",
       "<table border=\"1\" class=\"dataframe\">\n",
       "  <thead>\n",
       "    <tr style=\"text-align: right;\">\n",
       "      <th></th>\n",
       "      <th>rental_id_x</th>\n",
       "      <th>car_id_x</th>\n",
       "      <th>checkin_type_x</th>\n",
       "      <th>state_x</th>\n",
       "      <th>previous_ended_rental_id_x</th>\n",
       "      <th>time_delta_with_previous_rental_in_minutes_x</th>\n",
       "      <th>checkin_type_y</th>\n",
       "      <th>delay_at_checkout_in_minutes_y</th>\n",
       "      <th>delay_between_rentals</th>\n",
       "    </tr>\n",
       "  </thead>\n",
       "  <tbody>\n",
       "    <tr>\n",
       "      <th>0</th>\n",
       "      <td>511639</td>\n",
       "      <td>370585</td>\n",
       "      <td>connect</td>\n",
       "      <td>ended</td>\n",
       "      <td>563782.0</td>\n",
       "      <td>570.0</td>\n",
       "      <td>connect</td>\n",
       "      <td>136.0</td>\n",
       "      <td>434.0</td>\n",
       "    </tr>\n",
       "    <tr>\n",
       "      <th>1</th>\n",
       "      <td>519491</td>\n",
       "      <td>312389</td>\n",
       "      <td>mobile</td>\n",
       "      <td>ended</td>\n",
       "      <td>545639.0</td>\n",
       "      <td>420.0</td>\n",
       "      <td>mobile</td>\n",
       "      <td>140.0</td>\n",
       "      <td>280.0</td>\n",
       "    </tr>\n",
       "    <tr>\n",
       "      <th>2</th>\n",
       "      <td>528808</td>\n",
       "      <td>181625</td>\n",
       "      <td>connect</td>\n",
       "      <td>ended</td>\n",
       "      <td>557404.0</td>\n",
       "      <td>330.0</td>\n",
       "      <td>connect</td>\n",
       "      <td>-352.0</td>\n",
       "      <td>682.0</td>\n",
       "    </tr>\n",
       "    <tr>\n",
       "      <th>3</th>\n",
       "      <td>533670</td>\n",
       "      <td>320824</td>\n",
       "      <td>connect</td>\n",
       "      <td>ended</td>\n",
       "      <td>556563.0</td>\n",
       "      <td>630.0</td>\n",
       "      <td>connect</td>\n",
       "      <td>23.0</td>\n",
       "      <td>607.0</td>\n",
       "    </tr>\n",
       "    <tr>\n",
       "      <th>4</th>\n",
       "      <td>534827</td>\n",
       "      <td>404169</td>\n",
       "      <td>mobile</td>\n",
       "      <td>ended</td>\n",
       "      <td>531158.0</td>\n",
       "      <td>90.0</td>\n",
       "      <td>mobile</td>\n",
       "      <td>29.0</td>\n",
       "      <td>61.0</td>\n",
       "    </tr>\n",
       "  </tbody>\n",
       "</table>\n",
       "</div>"
      ],
      "text/plain": [
       "   rental_id_x  car_id_x checkin_type_x state_x  previous_ended_rental_id_x  \\\n",
       "0       511639    370585        connect   ended                    563782.0   \n",
       "1       519491    312389         mobile   ended                    545639.0   \n",
       "2       528808    181625        connect   ended                    557404.0   \n",
       "3       533670    320824        connect   ended                    556563.0   \n",
       "4       534827    404169         mobile   ended                    531158.0   \n",
       "\n",
       "   time_delta_with_previous_rental_in_minutes_x checkin_type_y  \\\n",
       "0                                         570.0        connect   \n",
       "1                                         420.0         mobile   \n",
       "2                                         330.0        connect   \n",
       "3                                         630.0        connect   \n",
       "4                                          90.0         mobile   \n",
       "\n",
       "   delay_at_checkout_in_minutes_y  delay_between_rentals  \n",
       "0                           136.0                  434.0  \n",
       "1                           140.0                  280.0  \n",
       "2                          -352.0                  682.0  \n",
       "3                            23.0                  607.0  \n",
       "4                            29.0                   61.0  "
      ]
     },
     "execution_count": 307,
     "metadata": {},
     "output_type": "execute_result"
    }
   ],
   "source": [
    "# Compute the delay between rentals\n",
    "df_multiple_rentals[\"delay_between_rentals\"] = df_multiple_rentals[\"time_delta_with_previous_rental_in_minutes_x\"] - df_multiple_rentals[\"delay_at_checkout_in_minutes_y\"]\n",
    "df_multiple_rentals.sort_values(by =\"delay_between_rentals\")\n",
    "df_multiple_rentals.head()"
   ]
  },
  {
   "cell_type": "code",
   "execution_count": 308,
   "metadata": {},
   "outputs": [
    {
     "data": {
      "text/plain": [
       "count    1429.000000\n",
       "mean      318.508747\n",
       "std       349.901428\n",
       "min      -527.000000\n",
       "25%        51.000000\n",
       "50%       206.000000\n",
       "75%       579.000000\n",
       "max      4684.000000\n",
       "Name: delay_between_rentals, dtype: float64"
      ]
     },
     "execution_count": 308,
     "metadata": {},
     "output_type": "execute_result"
    }
   ],
   "source": [
    "df_multiple_rentals[\"delay_between_rentals\"].describe()"
   ]
  },
  {
   "cell_type": "code",
   "execution_count": 316,
   "metadata": {},
   "outputs": [
    {
     "name": "stdout",
     "output_type": "stream",
     "text": [
      "Mean delay between late rentals : -44 mins\n",
      "Number of locations impacted by the late between rentals : 154\n",
      "Number of mobile locations impacted by the late between rentals : 107\n",
      "Number of locations canceled because of the delay : 0\n",
      "\n",
      "Percentage of consecutive locations impacted by the late over the total locations : 0.98 %\n"
     ]
    }
   ],
   "source": [
    "mask1 = df_multiple_rentals[\"delay_between_rentals\"] < 0\n",
    "mean_delay_between_rentals = df_multiple_rentals.loc[mask1, \"delay_between_rentals\"].mean()\n",
    "nb_rentals_impacted = df_multiple_rentals.loc[mask1, \"delay_between_rentals\"].count()\n",
    "\n",
    "mask2 = mask1 & (df_multiple_rentals[\"checkin_type_x\"] == \"mobile\")\n",
    "nb_mobile_rentals = df_multiple_rentals.loc[mask2, \"delay_between_rentals\"].count()\n",
    "\n",
    "mask3 = mask1 & (df_multiple_rentals[\"state_x\"] == \"canceled\")\n",
    "nb_canceled_rentals = df_multiple_rentals.loc[mask3, \"delay_between_rentals\"].count()\n",
    "\n",
    "print(\"Mean delay between late rentals :\", round(mean_delay_between_rentals), \"mins\")\n",
    "print(\"Number of locations impacted by the late between rentals :\", nb_rentals_impacted)\n",
    "print(\"Number of mobile locations impacted by the late between rentals :\", nb_mobile_rentals)\n",
    "print(\"Number of locations canceled because of the delay :\", nb_canceled_rentals)\n",
    "print()\n",
    "print(\"Percentage of consecutive locations impacted by the late over the total locations :\", \n",
    "    round(nb_rentals_impacted*100/df.shape[0],2), \"%\")"
   ]
  },
  {
   "attachments": {},
   "cell_type": "markdown",
   "metadata": {},
   "source": [
    "## Summary\n",
    "\n",
    "- Majority of rentals are made via mobile checkin\n",
    "- Just over half of rentals are late\n",
    "- Majority of locations are not cancelled\n",
    "- Mobile rentals have more delay than connect ones\n",
    "- Average delay time on all rentals is 60 mins\n",
    "- Average delay time is 200mins if only late rentals are counted\n",
    "- About 1% of rentals are affected by a delay between two consecutive rentals, this does not necessarily lead to cancellation\n",
    "\n",
    "\n",
    "## Conclusion \n",
    "- Delays are mostly present for mobile rentals, we can recommend to the Product Manager to establish a threshold for this rental scope.\n",
    "- Rentals impacted by a delay between two consecutive rentals are a minority (about 1% in our study), and they do not necessarily lead to cancellation. We can inform the Product Manager that it is not necessary to set up a threshold because it would generate more losses than profits for the company and the vehicle owner.\n",
    "- If the implementation of a threshold is still validated, knowing that the average duration of a delay between 2 rentals is 44 mins, we anticipate a threshold of 1h between 2 rentals. "
   ]
  }
 ],
 "metadata": {
  "kernelspec": {
   "display_name": "base",
   "language": "python",
   "name": "python3"
  },
  "language_info": {
   "codemirror_mode": {
    "name": "ipython",
    "version": 3
   },
   "file_extension": ".py",
   "mimetype": "text/x-python",
   "name": "python",
   "nbconvert_exporter": "python",
   "pygments_lexer": "ipython3",
   "version": "3.9.13"
  },
  "orig_nbformat": 4
 },
 "nbformat": 4,
 "nbformat_minor": 2
}
